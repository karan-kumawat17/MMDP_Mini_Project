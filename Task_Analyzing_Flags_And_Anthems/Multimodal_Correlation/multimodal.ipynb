{
 "cells": [
  {
   "cell_type": "code",
   "execution_count": 4,
   "metadata": {},
   "outputs": [],
   "source": [
    "import cv2\n",
    "import numpy as np\n",
    "from sklearn.preprocessing import StandardScaler\n",
    "from sklearn.decomposition import PCA\n",
    "import os"
   ]
  },
  {
   "cell_type": "code",
   "execution_count": 2,
   "metadata": {},
   "outputs": [],
   "source": [
    "def preprocess_flags(flags_dir):\n",
    "    flag_features = []\n",
    "    \n",
    "    for flag_file in os.listdir(flags_dir):\n",
    "        img = cv2.imread(os.path.join(flags_dir, flag_file))\n",
    "        img = cv2.cvtColor(img, cv2.COLOR_BGR2RGB)\n",
    "        img = cv2.resize(img, (100, 70))  # Standardize size\n",
    "        \n",
    "        # Extract color histogram\n",
    "        hist = cv2.calcHist([img], [0, 1, 2], None, [8, 8, 8], [0, 256, 0, 256, 0, 256])\n",
    "        hist = hist.flatten()\n",
    "        \n",
    "        # Normalize histogram\n",
    "        hist = hist / np.sum(hist)\n",
    "        \n",
    "        flag_features.append(hist)\n",
    "\n",
    "    scaler = StandardScaler()\n",
    "    flag_features = scaler.fit_transform(flag_features)\n",
    "    \n",
    "    return flag_features"
   ]
  },
  {
   "cell_type": "code",
   "execution_count": 5,
   "metadata": {},
   "outputs": [],
   "source": [
    "flag_features = preprocess_flags(r\"C:\\Users\\ASUS\\MMDP\\png100px\")"
   ]
  },
  {
   "cell_type": "code",
   "execution_count": 6,
   "metadata": {},
   "outputs": [
    {
     "name": "stderr",
     "output_type": "stream",
     "text": [
      "[nltk_data] Downloading package stopwords to\n",
      "[nltk_data]     C:\\Users\\ASUS\\AppData\\Roaming\\nltk_data...\n",
      "[nltk_data]   Package stopwords is already up-to-date!\n",
      "[nltk_data] Downloading package wordnet to\n",
      "[nltk_data]     C:\\Users\\ASUS\\AppData\\Roaming\\nltk_data...\n",
      "[nltk_data]   Package wordnet is already up-to-date!\n",
      "[nltk_data] Downloading package punkt to\n",
      "[nltk_data]     C:\\Users\\ASUS\\AppData\\Roaming\\nltk_data...\n",
      "[nltk_data]   Package punkt is already up-to-date!\n",
      "[nltk_data] Downloading package punkt_tab to\n",
      "[nltk_data]     C:\\Users\\ASUS\\AppData\\Roaming\\nltk_data...\n",
      "[nltk_data]   Package punkt_tab is already up-to-date!\n"
     ]
    },
    {
     "data": {
      "text/plain": [
       "True"
      ]
     },
     "execution_count": 6,
     "metadata": {},
     "output_type": "execute_result"
    }
   ],
   "source": [
    "import nltk\n",
    "from nltk.corpus import stopwords\n",
    "from nltk.stem import WordNetLemmatizer\n",
    "from sklearn.feature_extraction.text import TfidfVectorizer\n",
    "\n",
    "nltk.download('stopwords')\n",
    "nltk.download('wordnet')\n",
    "nltk.download('punkt')\n",
    "nltk.download('punkt_tab')"
   ]
  },
  {
   "cell_type": "code",
   "execution_count": 7,
   "metadata": {},
   "outputs": [],
   "source": [
    "def preprocess_anthems(anthems_dir):\n",
    "    lemmatizer = WordNetLemmatizer()\n",
    "    stop_words = set(stopwords.words('english'))\n",
    "    \n",
    "    anthem_texts = []\n",
    "    \n",
    "    for anthem_file in os.listdir(anthems_dir):\n",
    "        with open(os.path.join(anthems_dir, anthem_file), 'r', encoding='utf-8') as f:\n",
    "            text = f.read().lower()\n",
    "        \n",
    "        tokens = nltk.word_tokenize(text)\n",
    "        tokens = [lemmatizer.lemmatize(word) for word in tokens if word not in stop_words]\n",
    "        \n",
    "        # Join tokens back into a string\n",
    "        text = ' '.join(tokens)\n",
    "        \n",
    "        anthem_texts.append(text)\n",
    "\n",
    "    # Use TF-IDF for feature extraction\n",
    "    vectorizer = TfidfVectorizer(max_features=5000)\n",
    "    anthem_features = vectorizer.fit_transform(anthem_texts)\n",
    "    \n",
    "    return anthem_features.toarray()"
   ]
  },
  {
   "cell_type": "code",
   "execution_count": 8,
   "metadata": {},
   "outputs": [],
   "source": [
    "anthem_features = preprocess_anthems(r\"C:\\Users\\ASUS\\MMDP\\anthem_texts\")"
   ]
  },
  {
   "cell_type": "code",
   "execution_count": 9,
   "metadata": {},
   "outputs": [],
   "source": [
    "import librosa"
   ]
  },
  {
   "cell_type": "code",
   "execution_count": 10,
   "metadata": {},
   "outputs": [],
   "source": [
    "def preprocess_audio(audio_dir):\n",
    "    audio_features = []\n",
    "    \n",
    "    for audio_file in os.listdir(audio_dir):\n",
    "        y, sr = librosa.load(os.path.join(audio_dir, audio_file))\n",
    "        \n",
    "        # Extract MFCCs\n",
    "        mfccs = librosa.feature.mfcc(y=y, sr=sr)\n",
    "        mfccs = mfccs.mean(axis=1)  # Average across frames\n",
    "        \n",
    "        # Extract spectral features\n",
    "        spectral_centroid = np.mean(librosa.feature.spectral_centroid(y=y, sr=sr))\n",
    "        spectral_bandwidth = np.mean(librosa.feature.spectral_bandwidth(y=y, sr=sr))\n",
    "        spectral_rolloff = np.mean(librosa.feature.spectral_rolloff(y=y, sr=sr))\n",
    "\n",
    "        features = np.concatenate([mfccs, [spectral_centroid, spectral_bandwidth, spectral_rolloff]])\n",
    "        audio_features.append(features)\n",
    "    \n",
    "    # Scale features using StandardScaler\n",
    "    scaler = StandardScaler()\n",
    "    audio_features = scaler.fit_transform(audio_features)\n",
    "    \n",
    "    return audio_features"
   ]
  },
  {
   "cell_type": "code",
   "execution_count": 11,
   "metadata": {},
   "outputs": [],
   "source": [
    "audio_features = preprocess_audio(r\"C:\\Users\\ASUS\\MMDP\\anthems_audio\")"
   ]
  },
  {
   "cell_type": "code",
   "execution_count": 12,
   "metadata": {},
   "outputs": [],
   "source": [
    "def reduce_dimensions(features, n_components):\n",
    "    pca = PCA(n_components=n_components)\n",
    "    reduced_features = pca.fit_transform(features)\n",
    "    return reduced_features"
   ]
  },
  {
   "cell_type": "code",
   "execution_count": 14,
   "metadata": {},
   "outputs": [],
   "source": [
    "from sklearn.cross_decomposition import CCA\n",
    "from sklearn.kernel_approximation import RBFSampler\n",
    "import matplotlib.pyplot as plt"
   ]
  },
  {
   "cell_type": "code",
   "execution_count": 16,
   "metadata": {},
   "outputs": [],
   "source": [
    "cca = CCA(n_components=5)\n",
    "min_samples = min(len(flag_features), len(anthem_features))\n",
    "flag_cca, anthem_cca = cca.fit_transform(flag_features[:min_samples], anthem_features[:min_samples])\n",
    "\n",
    "# CCA for audio-flag correlation\n",
    "cca_af = CCA(n_components=5)\n",
    "min_samples = min(len(audio_features), len(flag_features))\n",
    "audio_cca, flag_cca_af = cca_af.fit_transform(audio_features[:min_samples], flag_features[:min_samples])\n",
    "\n",
    "# CCA for audio-anthem correlation\n",
    "cca_aa = CCA(n_components=5)\n",
    "min_samples = min(len(audio_features), len(anthem_features))\n",
    "audio_cca_aa, anthem_cca_aa = cca_aa.fit_transform(audio_features[:min_samples], anthem_features[:min_samples])"
   ]
  },
  {
   "cell_type": "code",
   "execution_count": 17,
   "metadata": {},
   "outputs": [
    {
     "data": {
      "image/png": "[encoded data removed]",
      "text/plain": [
       "<Figure size 1500x500 with 3 Axes>"
      ]
     },
     "metadata": {},
     "output_type": "display_data"
    }
   ],
   "source": [
    "corr_fa = np.corrcoef(flag_cca.T, anthem_cca.T)\n",
    "corr_af = np.corrcoef(audio_cca.T, flag_cca_af.T)\n",
    "corr_aa = np.corrcoef(audio_cca_aa.T, anthem_cca_aa.T)\n",
    "\n",
    "plt.figure(figsize=(15, 5))\n",
    "\n",
    "plt.subplot(1, 3, 1)\n",
    "plt.imshow(corr_fa, cmap='coolwarm', interpolation='nearest')\n",
    "plt.title('Flag-Anthem Correlation')\n",
    "\n",
    "plt.subplot(1, 3, 2)\n",
    "plt.imshow(corr_af, cmap='coolwarm', interpolation='nearest')\n",
    "plt.title('Audio-Flag Correlation')\n",
    "\n",
    "plt.subplot(1, 3, 3)\n",
    "plt.imshow(corr_aa, cmap='coolwarm', interpolation='nearest')\n",
    "plt.title('Audio-Anthem Correlation')\n",
    "\n",
    "plt.tight_layout()\n",
    "plt.show()"
   ]
  },
  {
   "cell_type": "code",
   "execution_count": 18,
   "metadata": {},
   "outputs": [],
   "source": [
    "from sklearn.decomposition import KernelPCA"
   ]
  },
  {
   "cell_type": "code",
   "execution_count": 19,
   "metadata": {},
   "outputs": [],
   "source": [
    "min_samples = min(len(flag_features), len(anthem_features), len(audio_features))\n",
    "\n",
    "flag_features = flag_features[:min_samples]\n",
    "anthem_features = anthem_features[:min_samples]\n",
    "audio_features = audio_features[:min_samples]\n",
    "\n",
    "# Normalize features\n",
    "scaler = StandardScaler()\n",
    "flag_features = scaler.fit_transform(flag_features)\n",
    "anthem_features = scaler.fit_transform(anthem_features)\n",
    "audio_features = scaler.fit_transform(audio_features)\n",
    "\n",
    "# Apply KernelPCA for Kernel CCA (Nonlinear Transformations)\n",
    "kpca_flag = KernelPCA(n_components=10, kernel=\"rbf\", gamma=0.1)\n",
    "kpca_anthem = KernelPCA(n_components=10, kernel=\"rbf\", gamma=0.1)\n",
    "kpca_audio = KernelPCA(n_components=10, kernel=\"rbf\", gamma=0.1)\n",
    "\n",
    "flag_kpca = kpca_flag.fit_transform(flag_features)\n",
    "anthem_kpca = kpca_anthem.fit_transform(anthem_features)\n",
    "audio_kpca = kpca_audio.fit_transform(audio_features)\n",
    "\n",
    "# Apply Linear CCA after KernelPCA\n",
    "cca = CCA(n_components=5)\n",
    "flag_cca, anthem_cca = cca.fit_transform(flag_kpca, anthem_kpca)\n",
    "\n",
    "cca_af = CCA(n_components=5)\n",
    "audio_cca, flag_cca_af = cca_af.fit_transform(audio_kpca, flag_kpca)\n",
    "\n",
    "cca_aa = CCA(n_components=5)\n",
    "audio_cca_aa, anthem_cca_aa = cca_aa.fit_transform(audio_kpca, anthem_kpca)"
   ]
  },
  {
   "cell_type": "code",
   "execution_count": 20,
   "metadata": {},
   "outputs": [
    {
     "data": {
      "image/png": "[encoded data removed]",
      "text/plain": [
       "<Figure size 1500x500 with 3 Axes>"
      ]
     },
     "metadata": {},
     "output_type": "display_data"
    }
   ],
   "source": [
    "corr_fa_k = np.corrcoef(flag_cca.T, anthem_cca.T)\n",
    "corr_af_k = np.corrcoef(audio_cca.T, flag_cca_af.T)\n",
    "corr_aa_k = np.corrcoef(audio_cca_aa.T, anthem_cca_aa.T)\n",
    "\n",
    "plt.figure(figsize=(15, 5))\n",
    "\n",
    "plt.subplot(1, 3, 1)\n",
    "plt.imshow(corr_fa_k, cmap='coolwarm', interpolation='nearest')\n",
    "plt.title('Flag-Anthem KCCA Correlation')\n",
    "\n",
    "plt.subplot(1, 3, 2)\n",
    "plt.imshow(corr_af_k, cmap='coolwarm', interpolation='nearest')\n",
    "plt.title('Audio-Flag KCCA Correlation')\n",
    "\n",
    "plt.subplot(1, 3, 3)\n",
    "plt.imshow(corr_aa_k, cmap='coolwarm', interpolation='nearest')\n",
    "plt.title('Audio-Anthem KCCA Correlation')\n",
    "\n",
    "plt.tight_layout()\n",
    "plt.show()"
   ]
  },
  {
   "cell_type": "code",
   "execution_count": null,
   "metadata": {},
   "outputs": [],
   "source": []
  }
 ],
 "metadata": {
  "kernelspec": {
   "display_name": "base",
   "language": "python",
   "name": "python3"
  },
  "language_info": {
   "codemirror_mode": {
    "name": "ipython",
    "version": 3
   },
   "file_extension": ".py",
   "mimetype": "text/x-python",
   "name": "python",
   "nbconvert_exporter": "python",
   "pygments_lexer": "ipython3",
   "version": "3.12.7"
  }
 },
 "nbformat": 4,
 "nbformat_minor": 2
}
